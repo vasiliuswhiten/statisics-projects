{
  "nbformat": 4,
  "nbformat_minor": 0,
  "metadata": {
    "colab": {
      "provenance": [],
      "toc_visible": true
    },
    "kernelspec": {
      "name": "python3",
      "display_name": "Python 3"
    },
    "language_info": {
      "name": "python"
    }
  },
  "cells": [
    {
      "cell_type": "markdown",
      "source": [
        "# Кейс. Золотая Жила 2."
      ],
      "metadata": {
        "id": "VHZaFf1ZPBya"
      }
    },
    {
      "cell_type": "code",
      "source": [
        "import pandas as pd\n",
        "import numpy as np\n",
        "import scipy.stats as sps\n",
        "import matplotlib.pyplot as plt\n",
        "import statsmodels.stats.proportion as smp\n",
        "from tqdm import tqdm\n",
        "\n",
        "df = pd. read_csv('https://raw.githubusercontent.com/zalig/cu-datasets/main/golden_mine.csv')\n",
        "\n",
        "df['Gender'] = df['Gender'].str.replace('FEMALE', 'female').replace('Female', 'female')\n",
        "df = df[ (df['Profit'] < 1000000) & (df['Profit'] > -1000000) ]\n",
        "\n",
        "df.head(5)"
      ],
      "metadata": {
        "colab": {
          "base_uri": "https://localhost:8080/",
          "height": 206
        },
        "id": "a_zEHBUPPJYT",
        "outputId": "570fee2b-3049-42f3-cd66-e7db15138655"
      },
      "execution_count": 23,
      "outputs": [
        {
          "output_type": "execute_result",
          "data": {
            "text/plain": [
              "   Payments  Costs  Profit  Age  Gender AgeGroup\n",
              "0      9400   8100    1300   19    male    18-24\n",
              "1     26600  13900   12700   29    male    25-39\n",
              "2      9750   6750    3000   20    male    18-24\n",
              "3     29700  11200   18500   18  female    18-24\n",
              "4     49700  10450   39250   21  female    18-24"
            ],
            "text/html": [
              "\n",
              "  <div id=\"df-b6aa84a9-951c-433b-8261-454f44e560d7\" class=\"colab-df-container\">\n",
              "    <div>\n",
              "<style scoped>\n",
              "    .dataframe tbody tr th:only-of-type {\n",
              "        vertical-align: middle;\n",
              "    }\n",
              "\n",
              "    .dataframe tbody tr th {\n",
              "        vertical-align: top;\n",
              "    }\n",
              "\n",
              "    .dataframe thead th {\n",
              "        text-align: right;\n",
              "    }\n",
              "</style>\n",
              "<table border=\"1\" class=\"dataframe\">\n",
              "  <thead>\n",
              "    <tr style=\"text-align: right;\">\n",
              "      <th></th>\n",
              "      <th>Payments</th>\n",
              "      <th>Costs</th>\n",
              "      <th>Profit</th>\n",
              "      <th>Age</th>\n",
              "      <th>Gender</th>\n",
              "      <th>AgeGroup</th>\n",
              "    </tr>\n",
              "  </thead>\n",
              "  <tbody>\n",
              "    <tr>\n",
              "      <th>0</th>\n",
              "      <td>9400</td>\n",
              "      <td>8100</td>\n",
              "      <td>1300</td>\n",
              "      <td>19</td>\n",
              "      <td>male</td>\n",
              "      <td>18-24</td>\n",
              "    </tr>\n",
              "    <tr>\n",
              "      <th>1</th>\n",
              "      <td>26600</td>\n",
              "      <td>13900</td>\n",
              "      <td>12700</td>\n",
              "      <td>29</td>\n",
              "      <td>male</td>\n",
              "      <td>25-39</td>\n",
              "    </tr>\n",
              "    <tr>\n",
              "      <th>2</th>\n",
              "      <td>9750</td>\n",
              "      <td>6750</td>\n",
              "      <td>3000</td>\n",
              "      <td>20</td>\n",
              "      <td>male</td>\n",
              "      <td>18-24</td>\n",
              "    </tr>\n",
              "    <tr>\n",
              "      <th>3</th>\n",
              "      <td>29700</td>\n",
              "      <td>11200</td>\n",
              "      <td>18500</td>\n",
              "      <td>18</td>\n",
              "      <td>female</td>\n",
              "      <td>18-24</td>\n",
              "    </tr>\n",
              "    <tr>\n",
              "      <th>4</th>\n",
              "      <td>49700</td>\n",
              "      <td>10450</td>\n",
              "      <td>39250</td>\n",
              "      <td>21</td>\n",
              "      <td>female</td>\n",
              "      <td>18-24</td>\n",
              "    </tr>\n",
              "  </tbody>\n",
              "</table>\n",
              "</div>\n",
              "    <div class=\"colab-df-buttons\">\n",
              "\n",
              "  <div class=\"colab-df-container\">\n",
              "    <button class=\"colab-df-convert\" onclick=\"convertToInteractive('df-b6aa84a9-951c-433b-8261-454f44e560d7')\"\n",
              "            title=\"Convert this dataframe to an interactive table.\"\n",
              "            style=\"display:none;\">\n",
              "\n",
              "  <svg xmlns=\"http://www.w3.org/2000/svg\" height=\"24px\" viewBox=\"0 -960 960 960\">\n",
              "    <path d=\"M120-120v-720h720v720H120Zm60-500h600v-160H180v160Zm220 220h160v-160H400v160Zm0 220h160v-160H400v160ZM180-400h160v-160H180v160Zm440 0h160v-160H620v160ZM180-180h160v-160H180v160Zm440 0h160v-160H620v160Z\"/>\n",
              "  </svg>\n",
              "    </button>\n",
              "\n",
              "  <style>\n",
              "    .colab-df-container {\n",
              "      display:flex;\n",
              "      gap: 12px;\n",
              "    }\n",
              "\n",
              "    .colab-df-convert {\n",
              "      background-color: #E8F0FE;\n",
              "      border: none;\n",
              "      border-radius: 50%;\n",
              "      cursor: pointer;\n",
              "      display: none;\n",
              "      fill: #1967D2;\n",
              "      height: 32px;\n",
              "      padding: 0 0 0 0;\n",
              "      width: 32px;\n",
              "    }\n",
              "\n",
              "    .colab-df-convert:hover {\n",
              "      background-color: #E2EBFA;\n",
              "      box-shadow: 0px 1px 2px rgba(60, 64, 67, 0.3), 0px 1px 3px 1px rgba(60, 64, 67, 0.15);\n",
              "      fill: #174EA6;\n",
              "    }\n",
              "\n",
              "    .colab-df-buttons div {\n",
              "      margin-bottom: 4px;\n",
              "    }\n",
              "\n",
              "    [theme=dark] .colab-df-convert {\n",
              "      background-color: #3B4455;\n",
              "      fill: #D2E3FC;\n",
              "    }\n",
              "\n",
              "    [theme=dark] .colab-df-convert:hover {\n",
              "      background-color: #434B5C;\n",
              "      box-shadow: 0px 1px 3px 1px rgba(0, 0, 0, 0.15);\n",
              "      filter: drop-shadow(0px 1px 2px rgba(0, 0, 0, 0.3));\n",
              "      fill: #FFFFFF;\n",
              "    }\n",
              "  </style>\n",
              "\n",
              "    <script>\n",
              "      const buttonEl =\n",
              "        document.querySelector('#df-b6aa84a9-951c-433b-8261-454f44e560d7 button.colab-df-convert');\n",
              "      buttonEl.style.display =\n",
              "        google.colab.kernel.accessAllowed ? 'block' : 'none';\n",
              "\n",
              "      async function convertToInteractive(key) {\n",
              "        const element = document.querySelector('#df-b6aa84a9-951c-433b-8261-454f44e560d7');\n",
              "        const dataTable =\n",
              "          await google.colab.kernel.invokeFunction('convertToInteractive',\n",
              "                                                    [key], {});\n",
              "        if (!dataTable) return;\n",
              "\n",
              "        const docLinkHtml = 'Like what you see? Visit the ' +\n",
              "          '<a target=\"_blank\" href=https://colab.research.google.com/notebooks/data_table.ipynb>data table notebook</a>'\n",
              "          + ' to learn more about interactive tables.';\n",
              "        element.innerHTML = '';\n",
              "        dataTable['output_type'] = 'display_data';\n",
              "        await google.colab.output.renderOutput(dataTable, element);\n",
              "        const docLink = document.createElement('div');\n",
              "        docLink.innerHTML = docLinkHtml;\n",
              "        element.appendChild(docLink);\n",
              "      }\n",
              "    </script>\n",
              "  </div>\n",
              "\n",
              "\n",
              "<div id=\"df-e2b4e08f-72e3-45de-b630-470124852750\">\n",
              "  <button class=\"colab-df-quickchart\" onclick=\"quickchart('df-e2b4e08f-72e3-45de-b630-470124852750')\"\n",
              "            title=\"Suggest charts\"\n",
              "            style=\"display:none;\">\n",
              "\n",
              "<svg xmlns=\"http://www.w3.org/2000/svg\" height=\"24px\"viewBox=\"0 0 24 24\"\n",
              "     width=\"24px\">\n",
              "    <g>\n",
              "        <path d=\"M19 3H5c-1.1 0-2 .9-2 2v14c0 1.1.9 2 2 2h14c1.1 0 2-.9 2-2V5c0-1.1-.9-2-2-2zM9 17H7v-7h2v7zm4 0h-2V7h2v10zm4 0h-2v-4h2v4z\"/>\n",
              "    </g>\n",
              "</svg>\n",
              "  </button>\n",
              "\n",
              "<style>\n",
              "  .colab-df-quickchart {\n",
              "      --bg-color: #E8F0FE;\n",
              "      --fill-color: #1967D2;\n",
              "      --hover-bg-color: #E2EBFA;\n",
              "      --hover-fill-color: #174EA6;\n",
              "      --disabled-fill-color: #AAA;\n",
              "      --disabled-bg-color: #DDD;\n",
              "  }\n",
              "\n",
              "  [theme=dark] .colab-df-quickchart {\n",
              "      --bg-color: #3B4455;\n",
              "      --fill-color: #D2E3FC;\n",
              "      --hover-bg-color: #434B5C;\n",
              "      --hover-fill-color: #FFFFFF;\n",
              "      --disabled-bg-color: #3B4455;\n",
              "      --disabled-fill-color: #666;\n",
              "  }\n",
              "\n",
              "  .colab-df-quickchart {\n",
              "    background-color: var(--bg-color);\n",
              "    border: none;\n",
              "    border-radius: 50%;\n",
              "    cursor: pointer;\n",
              "    display: none;\n",
              "    fill: var(--fill-color);\n",
              "    height: 32px;\n",
              "    padding: 0;\n",
              "    width: 32px;\n",
              "  }\n",
              "\n",
              "  .colab-df-quickchart:hover {\n",
              "    background-color: var(--hover-bg-color);\n",
              "    box-shadow: 0 1px 2px rgba(60, 64, 67, 0.3), 0 1px 3px 1px rgba(60, 64, 67, 0.15);\n",
              "    fill: var(--button-hover-fill-color);\n",
              "  }\n",
              "\n",
              "  .colab-df-quickchart-complete:disabled,\n",
              "  .colab-df-quickchart-complete:disabled:hover {\n",
              "    background-color: var(--disabled-bg-color);\n",
              "    fill: var(--disabled-fill-color);\n",
              "    box-shadow: none;\n",
              "  }\n",
              "\n",
              "  .colab-df-spinner {\n",
              "    border: 2px solid var(--fill-color);\n",
              "    border-color: transparent;\n",
              "    border-bottom-color: var(--fill-color);\n",
              "    animation:\n",
              "      spin 1s steps(1) infinite;\n",
              "  }\n",
              "\n",
              "  @keyframes spin {\n",
              "    0% {\n",
              "      border-color: transparent;\n",
              "      border-bottom-color: var(--fill-color);\n",
              "      border-left-color: var(--fill-color);\n",
              "    }\n",
              "    20% {\n",
              "      border-color: transparent;\n",
              "      border-left-color: var(--fill-color);\n",
              "      border-top-color: var(--fill-color);\n",
              "    }\n",
              "    30% {\n",
              "      border-color: transparent;\n",
              "      border-left-color: var(--fill-color);\n",
              "      border-top-color: var(--fill-color);\n",
              "      border-right-color: var(--fill-color);\n",
              "    }\n",
              "    40% {\n",
              "      border-color: transparent;\n",
              "      border-right-color: var(--fill-color);\n",
              "      border-top-color: var(--fill-color);\n",
              "    }\n",
              "    60% {\n",
              "      border-color: transparent;\n",
              "      border-right-color: var(--fill-color);\n",
              "    }\n",
              "    80% {\n",
              "      border-color: transparent;\n",
              "      border-right-color: var(--fill-color);\n",
              "      border-bottom-color: var(--fill-color);\n",
              "    }\n",
              "    90% {\n",
              "      border-color: transparent;\n",
              "      border-bottom-color: var(--fill-color);\n",
              "    }\n",
              "  }\n",
              "</style>\n",
              "\n",
              "  <script>\n",
              "    async function quickchart(key) {\n",
              "      const quickchartButtonEl =\n",
              "        document.querySelector('#' + key + ' button');\n",
              "      quickchartButtonEl.disabled = true;  // To prevent multiple clicks.\n",
              "      quickchartButtonEl.classList.add('colab-df-spinner');\n",
              "      try {\n",
              "        const charts = await google.colab.kernel.invokeFunction(\n",
              "            'suggestCharts', [key], {});\n",
              "      } catch (error) {\n",
              "        console.error('Error during call to suggestCharts:', error);\n",
              "      }\n",
              "      quickchartButtonEl.classList.remove('colab-df-spinner');\n",
              "      quickchartButtonEl.classList.add('colab-df-quickchart-complete');\n",
              "    }\n",
              "    (() => {\n",
              "      let quickchartButtonEl =\n",
              "        document.querySelector('#df-e2b4e08f-72e3-45de-b630-470124852750 button');\n",
              "      quickchartButtonEl.style.display =\n",
              "        google.colab.kernel.accessAllowed ? 'block' : 'none';\n",
              "    })();\n",
              "  </script>\n",
              "</div>\n",
              "    </div>\n",
              "  </div>\n"
            ],
            "application/vnd.google.colaboratory.intrinsic+json": {
              "type": "dataframe",
              "variable_name": "df",
              "summary": "{\n  \"name\": \"df\",\n  \"rows\": 8713,\n  \"fields\": [\n    {\n      \"column\": \"Payments\",\n      \"properties\": {\n        \"dtype\": \"number\",\n        \"std\": 27337,\n        \"min\": 3750,\n        \"max\": 148300,\n        \"num_unique_values\": 1514,\n        \"samples\": [\n          6850,\n          20950,\n          119900\n        ],\n        \"semantic_type\": \"\",\n        \"description\": \"\"\n      }\n    },\n    {\n      \"column\": \"Costs\",\n      \"properties\": {\n        \"dtype\": \"number\",\n        \"std\": 8039,\n        \"min\": 3500,\n        \"max\": 54350,\n        \"num_unique_values\": 702,\n        \"samples\": [\n          39850,\n          7950,\n          8650\n        ],\n        \"semantic_type\": \"\",\n        \"description\": \"\"\n      }\n    },\n    {\n      \"column\": \"Profit\",\n      \"properties\": {\n        \"dtype\": \"number\",\n        \"std\": 20125,\n        \"min\": -10200,\n        \"max\": 109500,\n        \"num_unique_values\": 1384,\n        \"samples\": [\n          20400,\n          31900,\n          41200\n        ],\n        \"semantic_type\": \"\",\n        \"description\": \"\"\n      }\n    },\n    {\n      \"column\": \"Age\",\n      \"properties\": {\n        \"dtype\": \"number\",\n        \"std\": 5,\n        \"min\": 18,\n        \"max\": 49,\n        \"num_unique_values\": 31,\n        \"samples\": [\n          45,\n          34,\n          46\n        ],\n        \"semantic_type\": \"\",\n        \"description\": \"\"\n      }\n    },\n    {\n      \"column\": \"Gender\",\n      \"properties\": {\n        \"dtype\": \"category\",\n        \"num_unique_values\": 2,\n        \"samples\": [\n          \"female\",\n          \"male\"\n        ],\n        \"semantic_type\": \"\",\n        \"description\": \"\"\n      }\n    },\n    {\n      \"column\": \"AgeGroup\",\n      \"properties\": {\n        \"dtype\": \"category\",\n        \"num_unique_values\": 3,\n        \"samples\": [\n          \"18-24\",\n          \"25-39\"\n        ],\n        \"semantic_type\": \"\",\n        \"description\": \"\"\n      }\n    }\n  ]\n}"
            }
          },
          "metadata": {},
          "execution_count": 23
        }
      ]
    },
    {
      "cell_type": "markdown",
      "source": [
        "# Важные функции"
      ],
      "metadata": {
        "id": "_bTZiJqfPmWE"
      }
    },
    {
      "cell_type": "code",
      "source": [
        "# Одновыборочный z-тест\n",
        "def ztest_1sample(pop_mean,\n",
        "                  sample_mean,\n",
        "                  sample_std,\n",
        "                  sample_size,\n",
        "                  alternative='two-sided'):\n",
        "\n",
        "    statistic = (sample_mean - pop_mean)/(sample_std / sample_size**0.5)\n",
        "\n",
        "    if alternative == 'less':\n",
        "        pvalue = sps.norm.cdf(statistic)\n",
        "\n",
        "    if alternative == 'greater':\n",
        "        pvalue = 1 - sps.norm.cdf(statistic)\n",
        "\n",
        "    if alternative == 'two-sided':\n",
        "        pvalue = 2 * (1 - sps.norm.cdf(abs(statistic)))\n",
        "\n",
        "    return statistic, pvalue\n",
        "\n",
        "\n",
        "\n",
        "\n",
        "def ztest_1sample_data(pop_mean, sample, alternative='two-sided'):\n",
        "\n",
        "    return ztest_1sample(pop_mean, sample_mean = sample.mean(),\n",
        "                         sample_std = sample.std(),\n",
        "                         sample_size = len(sample),\n",
        "                         alternative = alternative)\n",
        "\n",
        "# Двухвыборочный z-тест\n",
        "def ztest_2sample(sample1_mean,\n",
        "                  sample2_mean,\n",
        "                  sample1_std,\n",
        "                  sample2_std,\n",
        "                  sample1_size,\n",
        "                  sample2_size,\n",
        "                  alternative='two-sided'):\n",
        "\n",
        "    statistic = (sample1_mean - sample2_mean) / (sample1_std ** 2 / sample1_size + sample2_std ** 2 / sample2_size) ** 0.5\n",
        "\n",
        "    if alternative == 'less':\n",
        "        pvalue = sps.norm.cdf(statistic)\n",
        "\n",
        "    if alternative == 'greater':\n",
        "        pvalue = 1 - sps.norm.cdf(statistic)\n",
        "\n",
        "    if alternative == 'two-sided':\n",
        "        pvalue = 2 * (1 - sps.norm.cdf(abs(statistic)))\n",
        "\n",
        "    return statistic, pvalue\n",
        "\n",
        "\n",
        "# Подсчёт мощности одновыборочного правостороннего теста методом Монте-Карло\n",
        "def ztest_2sample_data(sample1,\n",
        "                       sample2,\n",
        "                       alternative='two-sided'):\n",
        "\n",
        "    return ztest_2sample(sample1_mean = sample1.mean(),\n",
        "                         sample2_mean = sample2.mean(),\n",
        "                         sample1_std = sample1.std(),\n",
        "                         sample2_std = sample2.std(),\n",
        "                         sample1_size = len(sample1),\n",
        "                         sample2_size = len(sample2),\n",
        "                         alternative = alternative)\n",
        "\n",
        "def zpower_1sample_data_monte_carlo(mu0,\n",
        "                                    mu,\n",
        "                                    sigma,\n",
        "                                    sample_size,\n",
        "                                    n_monte_carlo,\n",
        "                                    significance_level = 0.05):\n",
        "\n",
        "    rejections = 0\n",
        "\n",
        "    for _ in range(n_monte_carlo):\n",
        "        sample = sps.norm.rvs(loc=mu, scale=sigma, size=sample_size)\n",
        "        test_stat, pvalue = ztest_1sample(pop_mean  = mu0,\n",
        "                                          sample_mean = sample.mean(),\n",
        "                                          sample_std=sample.std(),\n",
        "                                          sample_size = len(sample),\n",
        "                                          alternative = 'greater')\n",
        "\n",
        "        if pvalue < significance_level:\n",
        "            rejections += 1\n",
        "\n",
        "    return rejections / n_monte_carlo"
      ],
      "metadata": {
        "id": "k7YwrjqtPoxA"
      },
      "execution_count": 24,
      "outputs": []
    },
    {
      "cell_type": "markdown",
      "source": [
        "# Синий уровень погнали"
      ],
      "metadata": {
        "id": "vmQddeX1QEtw"
      }
    },
    {
      "cell_type": "markdown",
      "source": [
        "## Количество клиентов"
      ],
      "metadata": {
        "id": "NQ0ufuorQJ1V"
      }
    },
    {
      "cell_type": "code",
      "source": [
        "print(f'Количество клиентов: {len(df)}')"
      ],
      "metadata": {
        "colab": {
          "base_uri": "https://localhost:8080/"
        },
        "id": "iy4C1cwMQGo1",
        "outputId": "dfcf978a-cd30-4a12-8886-89425fbc0b2e"
      },
      "execution_count": 25,
      "outputs": [
        {
          "output_type": "stream",
          "name": "stdout",
          "text": [
            "Количество клиентов: 8713\n"
          ]
        }
      ]
    },
    {
      "cell_type": "markdown",
      "source": [
        "## Средняя прибыль с клиента"
      ],
      "metadata": {
        "id": "VjqY9M20Q8Mp"
      }
    },
    {
      "cell_type": "code",
      "source": [
        "mean_profit = df['Profit'].mean()\n",
        "print(f'Средняя прибыль с клиента: {mean_profit}')"
      ],
      "metadata": {
        "colab": {
          "base_uri": "https://localhost:8080/"
        },
        "id": "QEDfliZCQzuZ",
        "outputId": "cda0a3af-e136-402e-bf24-3b81b42fa9f3"
      },
      "execution_count": 26,
      "outputs": [
        {
          "output_type": "stream",
          "name": "stdout",
          "text": [
            "Средняя прибыль с клиента: 15755.095833811545\n"
          ]
        }
      ]
    },
    {
      "cell_type": "markdown",
      "source": [
        "## Тест статистической значимости привлечения клиентов без таргетирования"
      ],
      "metadata": {
        "id": "uVRr00_vRayJ"
      }
    },
    {
      "cell_type": "markdown",
      "source": [
        "Гипотезы:\n",
        "\n",
        "  $H_0: \\mu - 15000 = 0$ — средняя прибыль от привлечения без таргетирования равна нулю\n",
        "\n",
        "  $H_1: \\mu -15000 > 0$ — средняя прибыль от привлечения без таргетирования больше нуля\n",
        "  \n",
        "  Тест:\n",
        "\n",
        "  Одновыборочный правосторонний z-test"
      ],
      "metadata": {
        "id": "f3C5NVDPRtwD"
      }
    },
    {
      "cell_type": "code",
      "source": [
        "z_st, p_value = ztest_1sample_data(pop_mean = 0,\n",
        "                                   sample = df['Profit'] - 15000,\n",
        "                                   alternative = 'greater')\n",
        "\n",
        "print('p-value:', p_value)"
      ],
      "metadata": {
        "colab": {
          "base_uri": "https://localhost:8080/"
        },
        "id": "h9wIUFiORfrG",
        "outputId": "1144b169-d9bb-41f0-8d46-a1c5231b673b"
      },
      "execution_count": 27,
      "outputs": [
        {
          "output_type": "stream",
          "name": "stdout",
          "text": [
            "p-value: 0.00023079035103212853\n"
          ]
        }
      ]
    },
    {
      "cell_type": "markdown",
      "source": [
        " Нет статистических доказательств прибыльности привлечения без таргетирования"
      ],
      "metadata": {
        "id": "SlbqKB4tR4L_"
      }
    },
    {
      "cell_type": "markdown",
      "source": [
        "## Датасеты М24 и Ж24"
      ],
      "metadata": {
        "id": "niBLfUkEST52"
      }
    },
    {
      "cell_type": "code",
      "source": [
        "male_18_24 = df[ (df['Gender'] == 'male') & (df['AgeGroup'] == '18-24') ].copy()\n",
        "female_18_24 = df[ (df['Gender'] == 'female') & (df['AgeGroup'] == '18-24') ].copy()"
      ],
      "metadata": {
        "id": "sZdGYd3ESMRM"
      },
      "execution_count": 28,
      "outputs": []
    },
    {
      "cell_type": "markdown",
      "source": [
        "Гипотезы:\n",
        "\n",
        "$H_0: \\mu_M = \\mu_F$ — средняя прибыль в категории \"Мужчины 18-24\" совпадает со средней прибыльностью в категории \\\n",
        "  \"Женщины 18-24\"\n",
        "\n",
        "$H_1: \\mu_M \\neq \\mu_F$ — средняя прибыль в категории \"Мужчины 18-24\" **не** совпадает со средней прибыльностью в категории \"Женщины 18-24\"\n",
        "\n",
        "Тест:\n",
        "\n",
        "Двухвыборочный двусторонний z-test"
      ],
      "metadata": {
        "id": "OCp04eZlSbOi"
      }
    },
    {
      "cell_type": "code",
      "source": [
        "z_st, p_value = ztest_2sample_data(sample1 = male_18_24['Profit'],\n",
        "                                   sample2 = female_18_24['Profit'],\n",
        "                                   alternative = 'two-sided')\n",
        "\n",
        "print('p-value:', p_value)"
      ],
      "metadata": {
        "colab": {
          "base_uri": "https://localhost:8080/"
        },
        "id": "FGq6fuaSSjsn",
        "outputId": "1c6777e8-63e9-414e-a034-f2fb4becf5a5"
      },
      "execution_count": 29,
      "outputs": [
        {
          "output_type": "stream",
          "name": "stdout",
          "text": [
            "p-value: 0.0\n"
          ]
        }
      ]
    },
    {
      "cell_type": "markdown",
      "source": [
        "  $p-value = 0 < 0.05 = \\alpha$\n",
        "\n",
        "  Вывод: гипотеза $H_0$ отвергается в пользу гипотезы $H_1$, т.е. мы имеем достаточно статистических свидетельств того, что средняя прибыль в категории \"Мужчины 18-24\" не совпадает со средней прибылью в категории \"Женщины 18-24\""
      ],
      "metadata": {
        "id": "kqza2uIGa1Y2"
      }
    },
    {
      "cell_type": "markdown",
      "source": [
        "Проведём тесты значимости прибыльности привлечения клиентов в каждой\n",
        "из категорий\n",
        "\n",
        "Гипотезы:\n",
        "\n",
        "$H_0: \\mu = 0$ — средняя прибыль от привлечения категории клиентов равна нулю\n",
        "\n",
        "$H_1: \\mu > 0$ — средняя прибыль от привлечения категории клиентов положительная\n",
        "\n",
        "Тест:\n",
        "\n",
        "Одновыборочный правосторонний z-test"
      ],
      "metadata": {
        "id": "ud9UJz7pbEid"
      }
    },
    {
      "cell_type": "code",
      "source": [
        "z_st, p_value = ztest_1sample_data(pop_mean = 0,\n",
        "                                   sample = male_18_24['Profit'] - 15000,\n",
        "                                   alternative = 'greater')\n",
        "print('\"Мужчины 18-24\" p-value:', p_value)\n",
        "\n",
        "z_st, p_value = ztest_1sample_data(pop_mean = 0,\n",
        "                                   sample = female_18_24['Profit'] - 15000,\n",
        "                                   alternative = 'greater')\n",
        "print('\"Женщины 18-24\" p-value:', p_value)"
      ],
      "metadata": {
        "colab": {
          "base_uri": "https://localhost:8080/"
        },
        "id": "WtoIZTg4a22U",
        "outputId": "ba3a1a56-debb-4703-d1c4-995758e54c31"
      },
      "execution_count": 30,
      "outputs": [
        {
          "output_type": "stream",
          "name": "stdout",
          "text": [
            "\"Мужчины 18-24\" p-value: 0.9999759917034207\n",
            "\"Женщины 18-24\" p-value: 0.0\n"
          ]
        }
      ]
    },
    {
      "cell_type": "markdown",
      "source": [
        "Получаем достаточно статистических свидетельств того, что прибыль от привлечения клиентов категории \"Мужчины 18-24\" не будет положительной, в то же время прибыль от привлечения \"Женщин 18-24\" должна быть положительной и значимо отличаться от первой категории (согласно результатам предыдущего теста)"
      ],
      "metadata": {
        "id": "HlHK1FPLbYeG"
      }
    },
    {
      "cell_type": "markdown",
      "source": [
        "Выбираем категорию \"Женщины 18-24\""
      ],
      "metadata": {
        "id": "_ZVRSRrSbamA"
      }
    },
    {
      "cell_type": "markdown",
      "source": [
        "# Красный уровень сюда"
      ],
      "metadata": {
        "id": "tqsh2d_fbg8B"
      }
    },
    {
      "cell_type": "code",
      "source": [
        "print('Уровень значимости для каждого теста:', round(5/3, 2))"
      ],
      "metadata": {
        "colab": {
          "base_uri": "https://localhost:8080/"
        },
        "id": "UhRega6MbYu-",
        "outputId": "8caa61d3-5fb8-4632-a673-368227661363"
      },
      "execution_count": 31,
      "outputs": [
        {
          "output_type": "stream",
          "name": "stdout",
          "text": [
            "Уровень значимости для каждого теста: 1.67\n"
          ]
        }
      ]
    },
    {
      "cell_type": "markdown",
      "source": [
        "## Тест статистической значимости разницы между категориями Ж21 и Ж24"
      ],
      "metadata": {
        "id": "ceCoVMX1caHq"
      }
    },
    {
      "cell_type": "markdown",
      "source": [
        "Гипотезы:\n",
        "\n",
        "$H_0: \\mu_1 = \\mu_2$ — средняя прибыль первой категории совпадает со средней прибылью второй категории\n",
        "\n",
        "$H_1: \\mu_1 \\neq \\mu_2$ — средняя прибыль первой категории не равна средней прибыли второй категории\n",
        "\n",
        "Тест:\n",
        "\n",
        "Двухвыборочный двусторонний z-test"
      ],
      "metadata": {
        "id": "M0uRzu3FbzF6"
      }
    },
    {
      "cell_type": "code",
      "source": [
        "female_18_21 = female_18_24[ female_18_24['Age'] <= 21 ].copy()\n",
        "female_22_24 = female_18_24[ female_18_24['Age'] > 21 ].copy()"
      ],
      "metadata": {
        "id": "p99M5w2Kb4AD"
      },
      "execution_count": 32,
      "outputs": []
    },
    {
      "cell_type": "code",
      "source": [
        "z_st, p_value = ztest_2sample_data(sample1 = female_18_21['Profit'],\n",
        "                                   sample2 = female_22_24['Profit'],\n",
        "                                   alternative = 'two-sided')\n",
        "\n",
        "print('p-value:', p_value)"
      ],
      "metadata": {
        "colab": {
          "base_uri": "https://localhost:8080/"
        },
        "id": "sgJAhVH3b8sV",
        "outputId": "cca6c65a-3eab-43e7-ff14-1771296b9680"
      },
      "execution_count": 33,
      "outputs": [
        {
          "output_type": "stream",
          "name": "stdout",
          "text": [
            "p-value: 0.0\n"
          ]
        }
      ]
    },
    {
      "cell_type": "markdown",
      "source": [
        "  $p-value = 0 < 0.0167 = \\alpha$\n",
        "\n",
        "  Вывод: гипотеза $H_0$ отвергается в пользу гипотезы $H_1$, т.е. мы имеем достаточно статистических свидетельств того, что средняя прибыль в категории \"Женщины 18-21\" не совпадает со средней прибылью в категории \"Женщины 22-24\""
      ],
      "metadata": {
        "id": "5x7i9Yr-cAoo"
      }
    },
    {
      "cell_type": "markdown",
      "source": [
        "## Тест статистической значимости разницы между прибылью и расходами на привлечение"
      ],
      "metadata": {
        "id": "s0J9lB5BclPS"
      }
    },
    {
      "cell_type": "markdown",
      "source": [
        "Гипотезы:\n",
        "\n",
        "$H_0: \\mu = 15000$ — средняя прибыль от привлечения подкатегории равна средним затратам на привлечение\n",
        "\n",
        "$H_1: \\mu > 15000$ — средняя прибыль от привлечения подкатегории больше средних затрат на привлечение\n",
        "\n",
        "Тест:\n",
        "\n",
        "Одновыборочный правосторонний z-test"
      ],
      "metadata": {
        "id": "PHNnPk5hcDbf"
      }
    },
    {
      "cell_type": "code",
      "source": [
        "z_st, p_value = ztest_1sample_data(pop_mean = 15000,\n",
        "                                   sample = female_18_21['Profit'],\n",
        "                                   alternative = 'greater')\n",
        "\n",
        "print('\"Женщины 18-21\" p-value:', p_value)\n",
        "\n",
        "z_st, p_value = ztest_1sample_data(pop_mean = 15000,\n",
        "                                   sample = female_22_24['Profit'],\n",
        "                                   alternative = 'greater')\n",
        "\n",
        "print('\"Женщины 22-24\" p-value:', p_value)\n",
        "\n",
        "female_18_21['Profit'].mean(), female_22_24['Profit'].mean()"
      ],
      "metadata": {
        "colab": {
          "base_uri": "https://localhost:8080/"
        },
        "id": "1GNRkeMab8ls",
        "outputId": "aa01ab36-e95c-48c8-d8c6-4fdf024d0078"
      },
      "execution_count": 34,
      "outputs": [
        {
          "output_type": "stream",
          "name": "stdout",
          "text": [
            "\"Женщины 18-21\" p-value: 0.0\n",
            "\"Женщины 22-24\" p-value: 0.0\n"
          ]
        },
        {
          "output_type": "execute_result",
          "data": {
            "text/plain": [
              "(25716.510438858117, 29891.23287671233)"
            ]
          },
          "metadata": {},
          "execution_count": 34
        }
      ]
    },
    {
      "cell_type": "markdown",
      "source": [
        "  $p-value_{1, 2} = 0 < 0.0167 = \\alpha$\n",
        "\n",
        "  Вывод: гипотеза $H_0$ отвергается в пользу гипотезы $H_1$, т.е. мы имеем достаточно статистических свидетельств того, что в обеих подкатегориях средняя прибыль от привлечения подкатегории больше средних затрат на привлечение"
      ],
      "metadata": {
        "id": "mOPGocpKcSte"
      }
    },
    {
      "cell_type": "code",
      "source": [
        "print('Уровень значимости для каждого теста:', round(5/21, 2))"
      ],
      "metadata": {
        "colab": {
          "base_uri": "https://localhost:8080/"
        },
        "id": "PvSEw1N9c3F_",
        "outputId": "7c02ad93-714d-42a0-f512-2d993713282b"
      },
      "execution_count": 35,
      "outputs": [
        {
          "output_type": "stream",
          "name": "stdout",
          "text": [
            "Уровень значимости для каждого теста: 0.24\n"
          ]
        }
      ]
    },
    {
      "cell_type": "markdown",
      "source": [
        "Такой маленький уровень значимости неудобен тем, что тест будет детектировать только очень большие разницы в прибыльности, т.е. необходимая мощность в $80 \\%$ при заданном уровне значимости достигается при очень большом минимально детектируемом эффекте\n",
        "\n",
        "Построим таблицу со значениями $p-value$ для каждых 2-х категорий"
      ],
      "metadata": {
        "id": "L2ps9A6Fc_rS"
      }
    },
    {
      "cell_type": "markdown",
      "source": [],
      "metadata": {
        "id": "etC_5WrGdEBk"
      }
    },
    {
      "cell_type": "code",
      "source": [
        "ages = sorted(list(female_18_24['Age'].unique()))\n",
        "pvalue_matrix = np.full((len(ages), len(ages)), np.nan)\n",
        "\n",
        "for ind_1, cat_1 in enumerate(ages):\n",
        "    for ind_2, cat_2 in enumerate(ages):\n",
        "        sample1 = female_18_24[female_18_24['Age'] == cat_1]['Profit']\n",
        "        sample2 = female_18_24[female_18_24['Age'] == cat_2]['Profit']\n",
        "        z_stat, p_value = ztest_2sample_data(sample1, sample2, alternative='two-sided')\n",
        "        pvalue_matrix[ind_1, ind_2] = p_value\n",
        "        pvalue_matrix[ind_2, ind_1] = p_value\n",
        "\n",
        "pvalue_df = pd.DataFrame(pvalue_matrix, index=ages, columns=ages)\n",
        "alpha = 0.05 / 21\n",
        "def colored_pvalue(pvalue):\n",
        "    if pvalue < alpha:\n",
        "        color = 'hotpink'\n",
        "    elif pvalue == 1:\n",
        "        color = 'white'\n",
        "    else:\n",
        "        color = 'lightpink'\n",
        "    return f'background-color: {color}'\n",
        "\n",
        "styled_df = pvalue_df.style.map(colored_pvalue).format(\"{:.3f}\")\n",
        "styled_df"
      ],
      "metadata": {
        "colab": {
          "base_uri": "https://localhost:8080/",
          "height": 268
        },
        "id": "5sQuij2VdHs6",
        "outputId": "eae98e0f-1678-426e-8417-567d9cb57da9"
      },
      "execution_count": 36,
      "outputs": [
        {
          "output_type": "execute_result",
          "data": {
            "text/plain": [
              "<pandas.io.formats.style.Styler at 0x7ade92770850>"
            ],
            "text/html": [
              "<style type=\"text/css\">\n",
              "#T_e469a_row0_col0, #T_e469a_row1_col1, #T_e469a_row2_col2, #T_e469a_row3_col3, #T_e469a_row4_col4, #T_e469a_row5_col5, #T_e469a_row6_col6 {\n",
              "  background-color: white;\n",
              "}\n",
              "#T_e469a_row0_col1, #T_e469a_row0_col2, #T_e469a_row1_col0, #T_e469a_row1_col2, #T_e469a_row2_col0, #T_e469a_row2_col1, #T_e469a_row2_col4, #T_e469a_row2_col6, #T_e469a_row3_col4, #T_e469a_row3_col5, #T_e469a_row3_col6, #T_e469a_row4_col2, #T_e469a_row4_col3, #T_e469a_row4_col5, #T_e469a_row4_col6, #T_e469a_row5_col3, #T_e469a_row5_col4, #T_e469a_row5_col6, #T_e469a_row6_col2, #T_e469a_row6_col3, #T_e469a_row6_col4, #T_e469a_row6_col5 {\n",
              "  background-color: lightpink;\n",
              "}\n",
              "#T_e469a_row0_col3, #T_e469a_row0_col4, #T_e469a_row0_col5, #T_e469a_row0_col6, #T_e469a_row1_col3, #T_e469a_row1_col4, #T_e469a_row1_col5, #T_e469a_row1_col6, #T_e469a_row2_col3, #T_e469a_row2_col5, #T_e469a_row3_col0, #T_e469a_row3_col1, #T_e469a_row3_col2, #T_e469a_row4_col0, #T_e469a_row4_col1, #T_e469a_row5_col0, #T_e469a_row5_col1, #T_e469a_row5_col2, #T_e469a_row6_col0, #T_e469a_row6_col1 {\n",
              "  background-color: hotpink;\n",
              "}\n",
              "</style>\n",
              "<table id=\"T_e469a\" class=\"dataframe\">\n",
              "  <thead>\n",
              "    <tr>\n",
              "      <th class=\"blank level0\" >&nbsp;</th>\n",
              "      <th id=\"T_e469a_level0_col0\" class=\"col_heading level0 col0\" >18</th>\n",
              "      <th id=\"T_e469a_level0_col1\" class=\"col_heading level0 col1\" >19</th>\n",
              "      <th id=\"T_e469a_level0_col2\" class=\"col_heading level0 col2\" >20</th>\n",
              "      <th id=\"T_e469a_level0_col3\" class=\"col_heading level0 col3\" >21</th>\n",
              "      <th id=\"T_e469a_level0_col4\" class=\"col_heading level0 col4\" >22</th>\n",
              "      <th id=\"T_e469a_level0_col5\" class=\"col_heading level0 col5\" >23</th>\n",
              "      <th id=\"T_e469a_level0_col6\" class=\"col_heading level0 col6\" >24</th>\n",
              "    </tr>\n",
              "  </thead>\n",
              "  <tbody>\n",
              "    <tr>\n",
              "      <th id=\"T_e469a_level0_row0\" class=\"row_heading level0 row0\" >18</th>\n",
              "      <td id=\"T_e469a_row0_col0\" class=\"data row0 col0\" >1.000</td>\n",
              "      <td id=\"T_e469a_row0_col1\" class=\"data row0 col1\" >0.409</td>\n",
              "      <td id=\"T_e469a_row0_col2\" class=\"data row0 col2\" >0.649</td>\n",
              "      <td id=\"T_e469a_row0_col3\" class=\"data row0 col3\" >0.000</td>\n",
              "      <td id=\"T_e469a_row0_col4\" class=\"data row0 col4\" >0.000</td>\n",
              "      <td id=\"T_e469a_row0_col5\" class=\"data row0 col5\" >0.000</td>\n",
              "      <td id=\"T_e469a_row0_col6\" class=\"data row0 col6\" >0.000</td>\n",
              "    </tr>\n",
              "    <tr>\n",
              "      <th id=\"T_e469a_level0_row1\" class=\"row_heading level0 row1\" >19</th>\n",
              "      <td id=\"T_e469a_row1_col0\" class=\"data row1 col0\" >0.409</td>\n",
              "      <td id=\"T_e469a_row1_col1\" class=\"data row1 col1\" >1.000</td>\n",
              "      <td id=\"T_e469a_row1_col2\" class=\"data row1 col2\" >0.844</td>\n",
              "      <td id=\"T_e469a_row1_col3\" class=\"data row1 col3\" >0.000</td>\n",
              "      <td id=\"T_e469a_row1_col4\" class=\"data row1 col4\" >0.000</td>\n",
              "      <td id=\"T_e469a_row1_col5\" class=\"data row1 col5\" >0.000</td>\n",
              "      <td id=\"T_e469a_row1_col6\" class=\"data row1 col6\" >0.000</td>\n",
              "    </tr>\n",
              "    <tr>\n",
              "      <th id=\"T_e469a_level0_row2\" class=\"row_heading level0 row2\" >20</th>\n",
              "      <td id=\"T_e469a_row2_col0\" class=\"data row2 col0\" >0.649</td>\n",
              "      <td id=\"T_e469a_row2_col1\" class=\"data row2 col1\" >0.844</td>\n",
              "      <td id=\"T_e469a_row2_col2\" class=\"data row2 col2\" >1.000</td>\n",
              "      <td id=\"T_e469a_row2_col3\" class=\"data row2 col3\" >0.001</td>\n",
              "      <td id=\"T_e469a_row2_col4\" class=\"data row2 col4\" >0.004</td>\n",
              "      <td id=\"T_e469a_row2_col5\" class=\"data row2 col5\" >0.000</td>\n",
              "      <td id=\"T_e469a_row2_col6\" class=\"data row2 col6\" >0.011</td>\n",
              "    </tr>\n",
              "    <tr>\n",
              "      <th id=\"T_e469a_level0_row3\" class=\"row_heading level0 row3\" >21</th>\n",
              "      <td id=\"T_e469a_row3_col0\" class=\"data row3 col0\" >0.000</td>\n",
              "      <td id=\"T_e469a_row3_col1\" class=\"data row3 col1\" >0.000</td>\n",
              "      <td id=\"T_e469a_row3_col2\" class=\"data row3 col2\" >0.001</td>\n",
              "      <td id=\"T_e469a_row3_col3\" class=\"data row3 col3\" >1.000</td>\n",
              "      <td id=\"T_e469a_row3_col4\" class=\"data row3 col4\" >0.665</td>\n",
              "      <td id=\"T_e469a_row3_col5\" class=\"data row3 col5\" >0.050</td>\n",
              "      <td id=\"T_e469a_row3_col6\" class=\"data row3 col6\" >0.538</td>\n",
              "    </tr>\n",
              "    <tr>\n",
              "      <th id=\"T_e469a_level0_row4\" class=\"row_heading level0 row4\" >22</th>\n",
              "      <td id=\"T_e469a_row4_col0\" class=\"data row4 col0\" >0.000</td>\n",
              "      <td id=\"T_e469a_row4_col1\" class=\"data row4 col1\" >0.000</td>\n",
              "      <td id=\"T_e469a_row4_col2\" class=\"data row4 col2\" >0.004</td>\n",
              "      <td id=\"T_e469a_row4_col3\" class=\"data row4 col3\" >0.665</td>\n",
              "      <td id=\"T_e469a_row4_col4\" class=\"data row4 col4\" >1.000</td>\n",
              "      <td id=\"T_e469a_row4_col5\" class=\"data row4 col5\" >0.032</td>\n",
              "      <td id=\"T_e469a_row4_col6\" class=\"data row4 col6\" >0.821</td>\n",
              "    </tr>\n",
              "    <tr>\n",
              "      <th id=\"T_e469a_level0_row5\" class=\"row_heading level0 row5\" >23</th>\n",
              "      <td id=\"T_e469a_row5_col0\" class=\"data row5 col0\" >0.000</td>\n",
              "      <td id=\"T_e469a_row5_col1\" class=\"data row5 col1\" >0.000</td>\n",
              "      <td id=\"T_e469a_row5_col2\" class=\"data row5 col2\" >0.000</td>\n",
              "      <td id=\"T_e469a_row5_col3\" class=\"data row5 col3\" >0.050</td>\n",
              "      <td id=\"T_e469a_row5_col4\" class=\"data row5 col4\" >0.032</td>\n",
              "      <td id=\"T_e469a_row5_col5\" class=\"data row5 col5\" >1.000</td>\n",
              "      <td id=\"T_e469a_row5_col6\" class=\"data row5 col6\" >0.028</td>\n",
              "    </tr>\n",
              "    <tr>\n",
              "      <th id=\"T_e469a_level0_row6\" class=\"row_heading level0 row6\" >24</th>\n",
              "      <td id=\"T_e469a_row6_col0\" class=\"data row6 col0\" >0.000</td>\n",
              "      <td id=\"T_e469a_row6_col1\" class=\"data row6 col1\" >0.000</td>\n",
              "      <td id=\"T_e469a_row6_col2\" class=\"data row6 col2\" >0.011</td>\n",
              "      <td id=\"T_e469a_row6_col3\" class=\"data row6 col3\" >0.538</td>\n",
              "      <td id=\"T_e469a_row6_col4\" class=\"data row6 col4\" >0.821</td>\n",
              "      <td id=\"T_e469a_row6_col5\" class=\"data row6 col5\" >0.028</td>\n",
              "      <td id=\"T_e469a_row6_col6\" class=\"data row6 col6\" >1.000</td>\n",
              "    </tr>\n",
              "  </tbody>\n",
              "</table>\n"
            ]
          },
          "metadata": {},
          "execution_count": 36
        }
      ]
    },
    {
      "cell_type": "markdown",
      "source": [
        "## Абсолютные значения разницы средней прибыли для каждых 2-х категорий"
      ],
      "metadata": {
        "id": "PvSHXeK_dOwJ"
      }
    },
    {
      "cell_type": "code",
      "source": [
        "ages = sorted(list(female_18_24['Age'].unique()))\n",
        "delta_profit_matrix = np.full((len(ages), len(ages)), np.nan)\n",
        "\n",
        "for ind_1, cat_1 in enumerate(ages):\n",
        "    for ind_2, cat_2 in enumerate(ages):\n",
        "        mean_profit_1 = female_18_24[female_18_24['Age'] == cat_1]['Profit'].mean()\n",
        "        mean_profit_2 = female_18_24[female_18_24['Age'] == cat_2]['Profit'].mean()\n",
        "        delta_profit_matrix[ind_1, ind_2] = mean_profit_1 - mean_profit_2\n",
        "\n",
        "delta_profit_df = pd.DataFrame(delta_profit_matrix, index=ages, columns=ages)\n",
        "def colored_delta_profit(delta_profit, i, j):\n",
        "    global pvalue_df\n",
        "    alpha = 0.05 / 21\n",
        "    pvalue = pvalue_df.loc[i, j]\n",
        "    if pvalue < alpha:\n",
        "        color = 'hotpink'\n",
        "    elif pvalue == 1:\n",
        "        color = 'white'\n",
        "    else:\n",
        "        color = 'lightpink'\n",
        "    return f'background-color: {color}'\n",
        "\n",
        "styled_df = delta_profit_df.style.apply(lambda x: [colored_delta_profit(delta_profit_df.loc[x.name, col], x.name, col) for col in x.index], axis = 1).format(\"{:.3f}\")\n",
        "styled_df"
      ],
      "metadata": {
        "colab": {
          "base_uri": "https://localhost:8080/",
          "height": 268
        },
        "id": "WirZcUJ0dRNN",
        "outputId": "dfb3dbec-b533-435d-e421-7bc23048f12e"
      },
      "execution_count": 37,
      "outputs": [
        {
          "output_type": "execute_result",
          "data": {
            "text/plain": [
              "<pandas.io.formats.style.Styler at 0x7ade92770e80>"
            ],
            "text/html": [
              "<style type=\"text/css\">\n",
              "#T_7a677_row0_col0, #T_7a677_row1_col1, #T_7a677_row2_col2, #T_7a677_row3_col3, #T_7a677_row4_col4, #T_7a677_row5_col5, #T_7a677_row6_col6 {\n",
              "  background-color: white;\n",
              "}\n",
              "#T_7a677_row0_col1, #T_7a677_row0_col2, #T_7a677_row1_col0, #T_7a677_row1_col2, #T_7a677_row2_col0, #T_7a677_row2_col1, #T_7a677_row2_col4, #T_7a677_row2_col6, #T_7a677_row3_col4, #T_7a677_row3_col5, #T_7a677_row3_col6, #T_7a677_row4_col2, #T_7a677_row4_col3, #T_7a677_row4_col5, #T_7a677_row4_col6, #T_7a677_row5_col3, #T_7a677_row5_col4, #T_7a677_row5_col6, #T_7a677_row6_col2, #T_7a677_row6_col3, #T_7a677_row6_col4, #T_7a677_row6_col5 {\n",
              "  background-color: lightpink;\n",
              "}\n",
              "#T_7a677_row0_col3, #T_7a677_row0_col4, #T_7a677_row0_col5, #T_7a677_row0_col6, #T_7a677_row1_col3, #T_7a677_row1_col4, #T_7a677_row1_col5, #T_7a677_row1_col6, #T_7a677_row2_col3, #T_7a677_row2_col5, #T_7a677_row3_col0, #T_7a677_row3_col1, #T_7a677_row3_col2, #T_7a677_row4_col0, #T_7a677_row4_col1, #T_7a677_row5_col0, #T_7a677_row5_col1, #T_7a677_row5_col2, #T_7a677_row6_col0, #T_7a677_row6_col1 {\n",
              "  background-color: hotpink;\n",
              "}\n",
              "</style>\n",
              "<table id=\"T_7a677\" class=\"dataframe\">\n",
              "  <thead>\n",
              "    <tr>\n",
              "      <th class=\"blank level0\" >&nbsp;</th>\n",
              "      <th id=\"T_7a677_level0_col0\" class=\"col_heading level0 col0\" >18</th>\n",
              "      <th id=\"T_7a677_level0_col1\" class=\"col_heading level0 col1\" >19</th>\n",
              "      <th id=\"T_7a677_level0_col2\" class=\"col_heading level0 col2\" >20</th>\n",
              "      <th id=\"T_7a677_level0_col3\" class=\"col_heading level0 col3\" >21</th>\n",
              "      <th id=\"T_7a677_level0_col4\" class=\"col_heading level0 col4\" >22</th>\n",
              "      <th id=\"T_7a677_level0_col5\" class=\"col_heading level0 col5\" >23</th>\n",
              "      <th id=\"T_7a677_level0_col6\" class=\"col_heading level0 col6\" >24</th>\n",
              "    </tr>\n",
              "  </thead>\n",
              "  <tbody>\n",
              "    <tr>\n",
              "      <th id=\"T_7a677_level0_row0\" class=\"row_heading level0 row0\" >18</th>\n",
              "      <td id=\"T_7a677_row0_col0\" class=\"data row0 col0\" >0.000</td>\n",
              "      <td id=\"T_7a677_row0_col1\" class=\"data row0 col1\" >-324.258</td>\n",
              "      <td id=\"T_7a677_row0_col2\" class=\"data row0 col2\" >-575.113</td>\n",
              "      <td id=\"T_7a677_row0_col3\" class=\"data row0 col3\" >-4881.056</td>\n",
              "      <td id=\"T_7a677_row0_col4\" class=\"data row0 col4\" >-4531.113</td>\n",
              "      <td id=\"T_7a677_row0_col5\" class=\"data row0 col5\" >-7620.340</td>\n",
              "      <td id=\"T_7a677_row0_col6\" class=\"data row0 col6\" >-4306.250</td>\n",
              "    </tr>\n",
              "    <tr>\n",
              "      <th id=\"T_7a677_level0_row1\" class=\"row_heading level0 row1\" >19</th>\n",
              "      <td id=\"T_7a677_row1_col0\" class=\"data row1 col0\" >324.258</td>\n",
              "      <td id=\"T_7a677_row1_col1\" class=\"data row1 col1\" >0.000</td>\n",
              "      <td id=\"T_7a677_row1_col2\" class=\"data row1 col2\" >-250.855</td>\n",
              "      <td id=\"T_7a677_row1_col3\" class=\"data row1 col3\" >-4556.797</td>\n",
              "      <td id=\"T_7a677_row1_col4\" class=\"data row1 col4\" >-4206.855</td>\n",
              "      <td id=\"T_7a677_row1_col5\" class=\"data row1 col5\" >-7296.082</td>\n",
              "      <td id=\"T_7a677_row1_col6\" class=\"data row1 col6\" >-3981.991</td>\n",
              "    </tr>\n",
              "    <tr>\n",
              "      <th id=\"T_7a677_level0_row2\" class=\"row_heading level0 row2\" >20</th>\n",
              "      <td id=\"T_7a677_row2_col0\" class=\"data row2 col0\" >575.113</td>\n",
              "      <td id=\"T_7a677_row2_col1\" class=\"data row2 col1\" >250.855</td>\n",
              "      <td id=\"T_7a677_row2_col2\" class=\"data row2 col2\" >0.000</td>\n",
              "      <td id=\"T_7a677_row2_col3\" class=\"data row2 col3\" >-4305.943</td>\n",
              "      <td id=\"T_7a677_row2_col4\" class=\"data row2 col4\" >-3956.000</td>\n",
              "      <td id=\"T_7a677_row2_col5\" class=\"data row2 col5\" >-7045.227</td>\n",
              "      <td id=\"T_7a677_row2_col6\" class=\"data row2 col6\" >-3731.136</td>\n",
              "    </tr>\n",
              "    <tr>\n",
              "      <th id=\"T_7a677_level0_row3\" class=\"row_heading level0 row3\" >21</th>\n",
              "      <td id=\"T_7a677_row3_col0\" class=\"data row3 col0\" >4881.056</td>\n",
              "      <td id=\"T_7a677_row3_col1\" class=\"data row3 col1\" >4556.797</td>\n",
              "      <td id=\"T_7a677_row3_col2\" class=\"data row3 col2\" >4305.943</td>\n",
              "      <td id=\"T_7a677_row3_col3\" class=\"data row3 col3\" >0.000</td>\n",
              "      <td id=\"T_7a677_row3_col4\" class=\"data row3 col4\" >349.943</td>\n",
              "      <td id=\"T_7a677_row3_col5\" class=\"data row3 col5\" >-2739.285</td>\n",
              "      <td id=\"T_7a677_row3_col6\" class=\"data row3 col6\" >574.806</td>\n",
              "    </tr>\n",
              "    <tr>\n",
              "      <th id=\"T_7a677_level0_row4\" class=\"row_heading level0 row4\" >22</th>\n",
              "      <td id=\"T_7a677_row4_col0\" class=\"data row4 col0\" >4531.113</td>\n",
              "      <td id=\"T_7a677_row4_col1\" class=\"data row4 col1\" >4206.855</td>\n",
              "      <td id=\"T_7a677_row4_col2\" class=\"data row4 col2\" >3956.000</td>\n",
              "      <td id=\"T_7a677_row4_col3\" class=\"data row4 col3\" >-349.943</td>\n",
              "      <td id=\"T_7a677_row4_col4\" class=\"data row4 col4\" >0.000</td>\n",
              "      <td id=\"T_7a677_row4_col5\" class=\"data row4 col5\" >-3089.227</td>\n",
              "      <td id=\"T_7a677_row4_col6\" class=\"data row4 col6\" >224.864</td>\n",
              "    </tr>\n",
              "    <tr>\n",
              "      <th id=\"T_7a677_level0_row5\" class=\"row_heading level0 row5\" >23</th>\n",
              "      <td id=\"T_7a677_row5_col0\" class=\"data row5 col0\" >7620.340</td>\n",
              "      <td id=\"T_7a677_row5_col1\" class=\"data row5 col1\" >7296.082</td>\n",
              "      <td id=\"T_7a677_row5_col2\" class=\"data row5 col2\" >7045.227</td>\n",
              "      <td id=\"T_7a677_row5_col3\" class=\"data row5 col3\" >2739.285</td>\n",
              "      <td id=\"T_7a677_row5_col4\" class=\"data row5 col4\" >3089.227</td>\n",
              "      <td id=\"T_7a677_row5_col5\" class=\"data row5 col5\" >0.000</td>\n",
              "      <td id=\"T_7a677_row5_col6\" class=\"data row5 col6\" >3314.091</td>\n",
              "    </tr>\n",
              "    <tr>\n",
              "      <th id=\"T_7a677_level0_row6\" class=\"row_heading level0 row6\" >24</th>\n",
              "      <td id=\"T_7a677_row6_col0\" class=\"data row6 col0\" >4306.250</td>\n",
              "      <td id=\"T_7a677_row6_col1\" class=\"data row6 col1\" >3981.991</td>\n",
              "      <td id=\"T_7a677_row6_col2\" class=\"data row6 col2\" >3731.136</td>\n",
              "      <td id=\"T_7a677_row6_col3\" class=\"data row6 col3\" >-574.806</td>\n",
              "      <td id=\"T_7a677_row6_col4\" class=\"data row6 col4\" >-224.864</td>\n",
              "      <td id=\"T_7a677_row6_col5\" class=\"data row6 col5\" >-3314.091</td>\n",
              "      <td id=\"T_7a677_row6_col6\" class=\"data row6 col6\" >0.000</td>\n",
              "    </tr>\n",
              "  </tbody>\n",
              "</table>\n"
            ]
          },
          "metadata": {},
          "execution_count": 37
        }
      ]
    },
    {
      "cell_type": "markdown",
      "source": [
        "Получаем, что тест начинает детектировать значимость разницы в категориях, если эта разница на наших данных составляет не менее 3956 рубля\n",
        "\n",
        "Для наглядности покажем среднюю прибыль в каждой категории из самого первого кейса \"Золотая жила\"\n",
        "\n",
        "Наиболее прибыльной будет возрастная категория с максимальной суммой по строке в датафрейме - в нашем случае, 23 года"
      ],
      "metadata": {
        "id": "1MrX1V5udd8s"
      }
    },
    {
      "cell_type": "markdown",
      "source": [
        "![image.png](data:image/png;base64,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)"
      ],
      "metadata": {
        "id": "CfshbjIxesvt"
      }
    },
    {
      "cell_type": "markdown",
      "source": [
        "Аналогичная ситуация для попарного тестирования значимости разницы в категориях \"Мужчины 18 лет\", . . . , \"Мужчины 24 года\", из-за большого MDE будет трудно обнаружить самую прибыльную категорию, если средняя прибыль в них отличается не очень сильно\n",
        "\n",
        "Построим таблицу со значениями $p-value$ для каждых 2-х категорий"
      ],
      "metadata": {
        "id": "xhAvdwXre0X6"
      }
    },
    {
      "cell_type": "code",
      "source": [
        "ages = sorted(list(male_18_24['Age'].unique()))\n",
        "pvalue_matrix = np.full((len(ages), len(ages)), np.nan)\n",
        "\n",
        "for ind_1, cat_1 in enumerate(ages):\n",
        "    for ind_2, cat_2 in enumerate(ages):\n",
        "        sample1 = male_18_24[male_18_24['Age'] == cat_1]['Profit']\n",
        "        sample2 = male_18_24[male_18_24['Age'] == cat_2]['Profit']\n",
        "        z_stat, p_value = ztest_2sample_data(sample1, sample2, alternative='two-sided')\n",
        "        pvalue_matrix[ind_1, ind_2] = p_value\n",
        "        pvalue_matrix[ind_2, ind_1] = p_value\n",
        "pvalue_df = pd.DataFrame(pvalue_matrix, index=ages, columns=ages)\n",
        "alpha = 0.05 / 21\n",
        "\n",
        "def colored_pvalue(pvalue):\n",
        "    if pvalue < alpha:\n",
        "        color = 'royalblue'\n",
        "    elif pvalue == 1:\n",
        "        color = 'white'\n",
        "    else:\n",
        "        color = 'lightblue'\n",
        "    return f'background-color: {color}'\n",
        "\n",
        "styled_df = pvalue_df.style.map(colored_pvalue).format(\"{:.3f}\")\n",
        "styled_df"
      ],
      "metadata": {
        "colab": {
          "base_uri": "https://localhost:8080/",
          "height": 268
        },
        "id": "M5t4_daodeO2",
        "outputId": "6c50426f-0c71-4c77-e662-0d723f8698eb"
      },
      "execution_count": 38,
      "outputs": [
        {
          "output_type": "execute_result",
          "data": {
            "text/plain": [
              "<pandas.io.formats.style.Styler at 0x7ade93a1a320>"
            ],
            "text/html": [
              "<style type=\"text/css\">\n",
              "#T_4d6ff_row0_col0, #T_4d6ff_row1_col1, #T_4d6ff_row2_col2, #T_4d6ff_row3_col3, #T_4d6ff_row4_col4, #T_4d6ff_row5_col5, #T_4d6ff_row6_col6 {\n",
              "  background-color: white;\n",
              "}\n",
              "#T_4d6ff_row0_col1, #T_4d6ff_row0_col2, #T_4d6ff_row1_col0, #T_4d6ff_row1_col2, #T_4d6ff_row2_col0, #T_4d6ff_row2_col1, #T_4d6ff_row3_col4, #T_4d6ff_row3_col5, #T_4d6ff_row3_col6, #T_4d6ff_row4_col3, #T_4d6ff_row4_col5, #T_4d6ff_row4_col6, #T_4d6ff_row5_col3, #T_4d6ff_row5_col4, #T_4d6ff_row5_col6, #T_4d6ff_row6_col3, #T_4d6ff_row6_col4, #T_4d6ff_row6_col5 {\n",
              "  background-color: lightblue;\n",
              "}\n",
              "#T_4d6ff_row0_col3, #T_4d6ff_row0_col4, #T_4d6ff_row0_col5, #T_4d6ff_row0_col6, #T_4d6ff_row1_col3, #T_4d6ff_row1_col4, #T_4d6ff_row1_col5, #T_4d6ff_row1_col6, #T_4d6ff_row2_col3, #T_4d6ff_row2_col4, #T_4d6ff_row2_col5, #T_4d6ff_row2_col6, #T_4d6ff_row3_col0, #T_4d6ff_row3_col1, #T_4d6ff_row3_col2, #T_4d6ff_row4_col0, #T_4d6ff_row4_col1, #T_4d6ff_row4_col2, #T_4d6ff_row5_col0, #T_4d6ff_row5_col1, #T_4d6ff_row5_col2, #T_4d6ff_row6_col0, #T_4d6ff_row6_col1, #T_4d6ff_row6_col2 {\n",
              "  background-color: royalblue;\n",
              "}\n",
              "</style>\n",
              "<table id=\"T_4d6ff\" class=\"dataframe\">\n",
              "  <thead>\n",
              "    <tr>\n",
              "      <th class=\"blank level0\" >&nbsp;</th>\n",
              "      <th id=\"T_4d6ff_level0_col0\" class=\"col_heading level0 col0\" >18</th>\n",
              "      <th id=\"T_4d6ff_level0_col1\" class=\"col_heading level0 col1\" >19</th>\n",
              "      <th id=\"T_4d6ff_level0_col2\" class=\"col_heading level0 col2\" >20</th>\n",
              "      <th id=\"T_4d6ff_level0_col3\" class=\"col_heading level0 col3\" >21</th>\n",
              "      <th id=\"T_4d6ff_level0_col4\" class=\"col_heading level0 col4\" >22</th>\n",
              "      <th id=\"T_4d6ff_level0_col5\" class=\"col_heading level0 col5\" >23</th>\n",
              "      <th id=\"T_4d6ff_level0_col6\" class=\"col_heading level0 col6\" >24</th>\n",
              "    </tr>\n",
              "  </thead>\n",
              "  <tbody>\n",
              "    <tr>\n",
              "      <th id=\"T_4d6ff_level0_row0\" class=\"row_heading level0 row0\" >18</th>\n",
              "      <td id=\"T_4d6ff_row0_col0\" class=\"data row0 col0\" >1.000</td>\n",
              "      <td id=\"T_4d6ff_row0_col1\" class=\"data row0 col1\" >0.538</td>\n",
              "      <td id=\"T_4d6ff_row0_col2\" class=\"data row0 col2\" >0.088</td>\n",
              "      <td id=\"T_4d6ff_row0_col3\" class=\"data row0 col3\" >0.000</td>\n",
              "      <td id=\"T_4d6ff_row0_col4\" class=\"data row0 col4\" >0.000</td>\n",
              "      <td id=\"T_4d6ff_row0_col5\" class=\"data row0 col5\" >0.000</td>\n",
              "      <td id=\"T_4d6ff_row0_col6\" class=\"data row0 col6\" >0.000</td>\n",
              "    </tr>\n",
              "    <tr>\n",
              "      <th id=\"T_4d6ff_level0_row1\" class=\"row_heading level0 row1\" >19</th>\n",
              "      <td id=\"T_4d6ff_row1_col0\" class=\"data row1 col0\" >0.538</td>\n",
              "      <td id=\"T_4d6ff_row1_col1\" class=\"data row1 col1\" >1.000</td>\n",
              "      <td id=\"T_4d6ff_row1_col2\" class=\"data row1 col2\" >0.280</td>\n",
              "      <td id=\"T_4d6ff_row1_col3\" class=\"data row1 col3\" >0.000</td>\n",
              "      <td id=\"T_4d6ff_row1_col4\" class=\"data row1 col4\" >0.000</td>\n",
              "      <td id=\"T_4d6ff_row1_col5\" class=\"data row1 col5\" >0.000</td>\n",
              "      <td id=\"T_4d6ff_row1_col6\" class=\"data row1 col6\" >0.000</td>\n",
              "    </tr>\n",
              "    <tr>\n",
              "      <th id=\"T_4d6ff_level0_row2\" class=\"row_heading level0 row2\" >20</th>\n",
              "      <td id=\"T_4d6ff_row2_col0\" class=\"data row2 col0\" >0.088</td>\n",
              "      <td id=\"T_4d6ff_row2_col1\" class=\"data row2 col1\" >0.280</td>\n",
              "      <td id=\"T_4d6ff_row2_col2\" class=\"data row2 col2\" >1.000</td>\n",
              "      <td id=\"T_4d6ff_row2_col3\" class=\"data row2 col3\" >0.000</td>\n",
              "      <td id=\"T_4d6ff_row2_col4\" class=\"data row2 col4\" >0.000</td>\n",
              "      <td id=\"T_4d6ff_row2_col5\" class=\"data row2 col5\" >0.000</td>\n",
              "      <td id=\"T_4d6ff_row2_col6\" class=\"data row2 col6\" >0.000</td>\n",
              "    </tr>\n",
              "    <tr>\n",
              "      <th id=\"T_4d6ff_level0_row3\" class=\"row_heading level0 row3\" >21</th>\n",
              "      <td id=\"T_4d6ff_row3_col0\" class=\"data row3 col0\" >0.000</td>\n",
              "      <td id=\"T_4d6ff_row3_col1\" class=\"data row3 col1\" >0.000</td>\n",
              "      <td id=\"T_4d6ff_row3_col2\" class=\"data row3 col2\" >0.000</td>\n",
              "      <td id=\"T_4d6ff_row3_col3\" class=\"data row3 col3\" >1.000</td>\n",
              "      <td id=\"T_4d6ff_row3_col4\" class=\"data row3 col4\" >0.345</td>\n",
              "      <td id=\"T_4d6ff_row3_col5\" class=\"data row3 col5\" >0.229</td>\n",
              "      <td id=\"T_4d6ff_row3_col6\" class=\"data row3 col6\" >0.884</td>\n",
              "    </tr>\n",
              "    <tr>\n",
              "      <th id=\"T_4d6ff_level0_row4\" class=\"row_heading level0 row4\" >22</th>\n",
              "      <td id=\"T_4d6ff_row4_col0\" class=\"data row4 col0\" >0.000</td>\n",
              "      <td id=\"T_4d6ff_row4_col1\" class=\"data row4 col1\" >0.000</td>\n",
              "      <td id=\"T_4d6ff_row4_col2\" class=\"data row4 col2\" >0.000</td>\n",
              "      <td id=\"T_4d6ff_row4_col3\" class=\"data row4 col3\" >0.345</td>\n",
              "      <td id=\"T_4d6ff_row4_col4\" class=\"data row4 col4\" >1.000</td>\n",
              "      <td id=\"T_4d6ff_row4_col5\" class=\"data row4 col5\" >0.777</td>\n",
              "      <td id=\"T_4d6ff_row4_col6\" class=\"data row4 col6\" >0.481</td>\n",
              "    </tr>\n",
              "    <tr>\n",
              "      <th id=\"T_4d6ff_level0_row5\" class=\"row_heading level0 row5\" >23</th>\n",
              "      <td id=\"T_4d6ff_row5_col0\" class=\"data row5 col0\" >0.000</td>\n",
              "      <td id=\"T_4d6ff_row5_col1\" class=\"data row5 col1\" >0.000</td>\n",
              "      <td id=\"T_4d6ff_row5_col2\" class=\"data row5 col2\" >0.000</td>\n",
              "      <td id=\"T_4d6ff_row5_col3\" class=\"data row5 col3\" >0.229</td>\n",
              "      <td id=\"T_4d6ff_row5_col4\" class=\"data row5 col4\" >0.777</td>\n",
              "      <td id=\"T_4d6ff_row5_col5\" class=\"data row5 col5\" >1.000</td>\n",
              "      <td id=\"T_4d6ff_row5_col6\" class=\"data row5 col6\" >0.368</td>\n",
              "    </tr>\n",
              "    <tr>\n",
              "      <th id=\"T_4d6ff_level0_row6\" class=\"row_heading level0 row6\" >24</th>\n",
              "      <td id=\"T_4d6ff_row6_col0\" class=\"data row6 col0\" >0.000</td>\n",
              "      <td id=\"T_4d6ff_row6_col1\" class=\"data row6 col1\" >0.000</td>\n",
              "      <td id=\"T_4d6ff_row6_col2\" class=\"data row6 col2\" >0.000</td>\n",
              "      <td id=\"T_4d6ff_row6_col3\" class=\"data row6 col3\" >0.884</td>\n",
              "      <td id=\"T_4d6ff_row6_col4\" class=\"data row6 col4\" >0.481</td>\n",
              "      <td id=\"T_4d6ff_row6_col5\" class=\"data row6 col5\" >0.368</td>\n",
              "      <td id=\"T_4d6ff_row6_col6\" class=\"data row6 col6\" >1.000</td>\n",
              "    </tr>\n",
              "  </tbody>\n",
              "</table>\n"
            ]
          },
          "metadata": {},
          "execution_count": 38
        }
      ]
    },
    {
      "cell_type": "markdown",
      "source": [
        "Найдем абсолютные значения разницы средней прибыли для каждых 2-х категорий"
      ],
      "metadata": {
        "id": "TQGlTJqte9GY"
      }
    },
    {
      "cell_type": "code",
      "source": [
        "ages = sorted(list(male_18_24['Age'].unique()))\n",
        "delta_profit_matrix = np.full((len(ages), len(ages)), np.nan)\n",
        "\n",
        "for ind_1, cat_1 in enumerate(ages):\n",
        "    for ind_2, cat_2 in enumerate(ages):\n",
        "        mean_profit_1 = male_18_24[male_18_24['Age'] == cat_1]['Profit'].mean()\n",
        "        mean_profit_2 = male_18_24[male_18_24['Age'] == cat_2]['Profit'].mean()\n",
        "        delta_profit_matrix[ind_1, ind_2] = mean_profit_1 - mean_profit_2\n",
        "delta_profit_df = pd.DataFrame(delta_profit_matrix, index=ages, columns=ages)\n",
        "\n",
        "def colored_delta_profit(delta_profit, i, j):\n",
        "    global pvalue_df\n",
        "    alpha = 0.05 / 21\n",
        "    pvalue = pvalue_df.loc[i, j]\n",
        "    if pvalue < alpha:\n",
        "        color = 'royalblue'\n",
        "    elif pvalue == 1:\n",
        "        color = 'white'\n",
        "    else:\n",
        "        color = 'lightblue'\n",
        "    return f'background-color: {color}'\n",
        "\n",
        "styled_df = delta_profit_df.style.apply(lambda x: [colored_delta_profit(delta_profit_df.loc[x.name, col], x.name, col) for col in x.index], axis = 1).format(\"{:.3f}\")\n",
        "styled_df"
      ],
      "metadata": {
        "colab": {
          "base_uri": "https://localhost:8080/",
          "height": 268
        },
        "id": "hXGG-mVMe9Zk",
        "outputId": "ee8954a0-6b2a-4423-ee4c-024a62f0def6"
      },
      "execution_count": 39,
      "outputs": [
        {
          "output_type": "execute_result",
          "data": {
            "text/plain": [
              "<pandas.io.formats.style.Styler at 0x7ade92a54340>"
            ],
            "text/html": [
              "<style type=\"text/css\">\n",
              "#T_9095e_row0_col0, #T_9095e_row1_col1, #T_9095e_row2_col2, #T_9095e_row3_col3, #T_9095e_row4_col4, #T_9095e_row5_col5, #T_9095e_row6_col6 {\n",
              "  background-color: white;\n",
              "}\n",
              "#T_9095e_row0_col1, #T_9095e_row0_col2, #T_9095e_row1_col0, #T_9095e_row1_col2, #T_9095e_row2_col0, #T_9095e_row2_col1, #T_9095e_row3_col4, #T_9095e_row3_col5, #T_9095e_row3_col6, #T_9095e_row4_col3, #T_9095e_row4_col5, #T_9095e_row4_col6, #T_9095e_row5_col3, #T_9095e_row5_col4, #T_9095e_row5_col6, #T_9095e_row6_col3, #T_9095e_row6_col4, #T_9095e_row6_col5 {\n",
              "  background-color: lightblue;\n",
              "}\n",
              "#T_9095e_row0_col3, #T_9095e_row0_col4, #T_9095e_row0_col5, #T_9095e_row0_col6, #T_9095e_row1_col3, #T_9095e_row1_col4, #T_9095e_row1_col5, #T_9095e_row1_col6, #T_9095e_row2_col3, #T_9095e_row2_col4, #T_9095e_row2_col5, #T_9095e_row2_col6, #T_9095e_row3_col0, #T_9095e_row3_col1, #T_9095e_row3_col2, #T_9095e_row4_col0, #T_9095e_row4_col1, #T_9095e_row4_col2, #T_9095e_row5_col0, #T_9095e_row5_col1, #T_9095e_row5_col2, #T_9095e_row6_col0, #T_9095e_row6_col1, #T_9095e_row6_col2 {\n",
              "  background-color: royalblue;\n",
              "}\n",
              "</style>\n",
              "<table id=\"T_9095e\" class=\"dataframe\">\n",
              "  <thead>\n",
              "    <tr>\n",
              "      <th class=\"blank level0\" >&nbsp;</th>\n",
              "      <th id=\"T_9095e_level0_col0\" class=\"col_heading level0 col0\" >18</th>\n",
              "      <th id=\"T_9095e_level0_col1\" class=\"col_heading level0 col1\" >19</th>\n",
              "      <th id=\"T_9095e_level0_col2\" class=\"col_heading level0 col2\" >20</th>\n",
              "      <th id=\"T_9095e_level0_col3\" class=\"col_heading level0 col3\" >21</th>\n",
              "      <th id=\"T_9095e_level0_col4\" class=\"col_heading level0 col4\" >22</th>\n",
              "      <th id=\"T_9095e_level0_col5\" class=\"col_heading level0 col5\" >23</th>\n",
              "      <th id=\"T_9095e_level0_col6\" class=\"col_heading level0 col6\" >24</th>\n",
              "    </tr>\n",
              "  </thead>\n",
              "  <tbody>\n",
              "    <tr>\n",
              "      <th id=\"T_9095e_level0_row0\" class=\"row_heading level0 row0\" >18</th>\n",
              "      <td id=\"T_9095e_row0_col0\" class=\"data row0 col0\" >0.000</td>\n",
              "      <td id=\"T_9095e_row0_col1\" class=\"data row0 col1\" >56.564</td>\n",
              "      <td id=\"T_9095e_row0_col2\" class=\"data row0 col2\" >176.818</td>\n",
              "      <td id=\"T_9095e_row0_col3\" class=\"data row0 col3\" >-76759.877</td>\n",
              "      <td id=\"T_9095e_row0_col4\" class=\"data row0 col4\" >-77970.333</td>\n",
              "      <td id=\"T_9095e_row0_col5\" class=\"data row0 col5\" >-78451.569</td>\n",
              "      <td id=\"T_9095e_row0_col6\" class=\"data row0 col6\" >-76487.029</td>\n",
              "    </tr>\n",
              "    <tr>\n",
              "      <th id=\"T_9095e_level0_row1\" class=\"row_heading level0 row1\" >19</th>\n",
              "      <td id=\"T_9095e_row1_col0\" class=\"data row1 col0\" >-56.564</td>\n",
              "      <td id=\"T_9095e_row1_col1\" class=\"data row1 col1\" >0.000</td>\n",
              "      <td id=\"T_9095e_row1_col2\" class=\"data row1 col2\" >120.254</td>\n",
              "      <td id=\"T_9095e_row1_col3\" class=\"data row1 col3\" >-76816.441</td>\n",
              "      <td id=\"T_9095e_row1_col4\" class=\"data row1 col4\" >-78026.897</td>\n",
              "      <td id=\"T_9095e_row1_col5\" class=\"data row1 col5\" >-78508.133</td>\n",
              "      <td id=\"T_9095e_row1_col6\" class=\"data row1 col6\" >-76543.593</td>\n",
              "    </tr>\n",
              "    <tr>\n",
              "      <th id=\"T_9095e_level0_row2\" class=\"row_heading level0 row2\" >20</th>\n",
              "      <td id=\"T_9095e_row2_col0\" class=\"data row2 col0\" >-176.818</td>\n",
              "      <td id=\"T_9095e_row2_col1\" class=\"data row2 col1\" >-120.254</td>\n",
              "      <td id=\"T_9095e_row2_col2\" class=\"data row2 col2\" >0.000</td>\n",
              "      <td id=\"T_9095e_row2_col3\" class=\"data row2 col3\" >-76936.695</td>\n",
              "      <td id=\"T_9095e_row2_col4\" class=\"data row2 col4\" >-78147.152</td>\n",
              "      <td id=\"T_9095e_row2_col5\" class=\"data row2 col5\" >-78628.387</td>\n",
              "      <td id=\"T_9095e_row2_col6\" class=\"data row2 col6\" >-76663.847</td>\n",
              "    </tr>\n",
              "    <tr>\n",
              "      <th id=\"T_9095e_level0_row3\" class=\"row_heading level0 row3\" >21</th>\n",
              "      <td id=\"T_9095e_row3_col0\" class=\"data row3 col0\" >76759.877</td>\n",
              "      <td id=\"T_9095e_row3_col1\" class=\"data row3 col1\" >76816.441</td>\n",
              "      <td id=\"T_9095e_row3_col2\" class=\"data row3 col2\" >76936.695</td>\n",
              "      <td id=\"T_9095e_row3_col3\" class=\"data row3 col3\" >0.000</td>\n",
              "      <td id=\"T_9095e_row3_col4\" class=\"data row3 col4\" >-1210.456</td>\n",
              "      <td id=\"T_9095e_row3_col5\" class=\"data row3 col5\" >-1691.692</td>\n",
              "      <td id=\"T_9095e_row3_col6\" class=\"data row3 col6\" >272.848</td>\n",
              "    </tr>\n",
              "    <tr>\n",
              "      <th id=\"T_9095e_level0_row4\" class=\"row_heading level0 row4\" >22</th>\n",
              "      <td id=\"T_9095e_row4_col0\" class=\"data row4 col0\" >77970.333</td>\n",
              "      <td id=\"T_9095e_row4_col1\" class=\"data row4 col1\" >78026.897</td>\n",
              "      <td id=\"T_9095e_row4_col2\" class=\"data row4 col2\" >78147.152</td>\n",
              "      <td id=\"T_9095e_row4_col3\" class=\"data row4 col3\" >1210.456</td>\n",
              "      <td id=\"T_9095e_row4_col4\" class=\"data row4 col4\" >0.000</td>\n",
              "      <td id=\"T_9095e_row4_col5\" class=\"data row4 col5\" >-481.235</td>\n",
              "      <td id=\"T_9095e_row4_col6\" class=\"data row4 col6\" >1483.304</td>\n",
              "    </tr>\n",
              "    <tr>\n",
              "      <th id=\"T_9095e_level0_row5\" class=\"row_heading level0 row5\" >23</th>\n",
              "      <td id=\"T_9095e_row5_col0\" class=\"data row5 col0\" >78451.569</td>\n",
              "      <td id=\"T_9095e_row5_col1\" class=\"data row5 col1\" >78508.133</td>\n",
              "      <td id=\"T_9095e_row5_col2\" class=\"data row5 col2\" >78628.387</td>\n",
              "      <td id=\"T_9095e_row5_col3\" class=\"data row5 col3\" >1691.692</td>\n",
              "      <td id=\"T_9095e_row5_col4\" class=\"data row5 col4\" >481.235</td>\n",
              "      <td id=\"T_9095e_row5_col5\" class=\"data row5 col5\" >0.000</td>\n",
              "      <td id=\"T_9095e_row5_col6\" class=\"data row5 col6\" >1964.540</td>\n",
              "    </tr>\n",
              "    <tr>\n",
              "      <th id=\"T_9095e_level0_row6\" class=\"row_heading level0 row6\" >24</th>\n",
              "      <td id=\"T_9095e_row6_col0\" class=\"data row6 col0\" >76487.029</td>\n",
              "      <td id=\"T_9095e_row6_col1\" class=\"data row6 col1\" >76543.593</td>\n",
              "      <td id=\"T_9095e_row6_col2\" class=\"data row6 col2\" >76663.847</td>\n",
              "      <td id=\"T_9095e_row6_col3\" class=\"data row6 col3\" >-272.848</td>\n",
              "      <td id=\"T_9095e_row6_col4\" class=\"data row6 col4\" >-1483.304</td>\n",
              "      <td id=\"T_9095e_row6_col5\" class=\"data row6 col5\" >-1964.540</td>\n",
              "      <td id=\"T_9095e_row6_col6\" class=\"data row6 col6\" >0.000</td>\n",
              "    </tr>\n",
              "  </tbody>\n",
              "</table>\n"
            ]
          },
          "metadata": {},
          "execution_count": 39
        }
      ]
    },
    {
      "cell_type": "markdown",
      "source": [
        "Получаем, что тест начинает детектировать значимость разницы в категориях, если эта разница на наших данных составляет не менее 1964 рубля\n",
        "\n",
        "Для наглядности покажем среднюю прибыль в каждой категории из самого первого кейса \"Золотая жила\"\n",
        "\n",
        "Наиболее прибыльной будет возрастная категория с максимальной суммой по строке в датафрейме - в нашем случае найденная в первом кейсе \"Золотая жила\" - мужчины 21-24"
      ],
      "metadata": {
        "id": "oOZYxiiyfEuh"
      }
    },
    {
      "cell_type": "markdown",
      "source": [
        "![image.png](data:image/png;base64,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)"
      ],
      "metadata": {
        "id": "wCT_jLRtfPYj"
      }
    },
    {
      "cell_type": "markdown",
      "source": [
        "Таким образом, т.к. мы имеем большое количество данных и средний чек достаточно большой, такое маленькое значение уровня значимости не мешает, а наоборот, помогает найти наиболее выделяющуюся по прибыли категорию/категории клиентов"
      ],
      "metadata": {
        "id": "mzVsVhCKfT3r"
      }
    },
    {
      "cell_type": "markdown",
      "source": [
        "# Ну чё чёрный"
      ],
      "metadata": {
        "id": "5UCGMUiSfVg0"
      }
    },
    {
      "cell_type": "code",
      "source": [
        "golden_vein = df[ (df['Gender'] == 'male') & (df['Age'] >= 21) & (df['Age'] <= 24) ]"
      ],
      "metadata": {
        "id": "JCLzsfN3fH1S"
      },
      "execution_count": 40,
      "outputs": []
    },
    {
      "cell_type": "markdown",
      "source": [
        "Проверим значимость разницы в прибыльности категорий\n",
        "\"Золотая жила\" и \"Женщины 18-24 лет\":\n",
        "\n",
        "Гипотезы:\n",
        "\n",
        "$H_0: \\mu_G = \\mu_F$ — средняя прибыль первой категории совпадает со средней прибылью второй категории\n",
        "\n",
        "$H_1: \\mu_G \\neq \\mu_F$ — средняя прибыль первой категории не равна средней прибыли второй категории\n",
        "\n",
        "Тест:\n",
        "\n",
        "Двухвыборочный двусторонний z-test"
      ],
      "metadata": {
        "id": "opr2UViAfkck"
      }
    },
    {
      "cell_type": "code",
      "source": [
        "z_st, p_value = ztest_2sample_data(sample1 = female_18_24['Profit'],\n",
        "                                   sample2=golden_vein['Profit'],\n",
        "                                   alternative='two-sided')\n",
        "print('p-value:', p_value)"
      ],
      "metadata": {
        "colab": {
          "base_uri": "https://localhost:8080/"
        },
        "id": "wJJC8AgIfnMs",
        "outputId": "6cfc9850-b620-4266-c7c0-d5861fa02ca3"
      },
      "execution_count": 41,
      "outputs": [
        {
          "output_type": "stream",
          "name": "stdout",
          "text": [
            "p-value: 0.0\n"
          ]
        }
      ]
    },
    {
      "cell_type": "markdown",
      "source": [
        "$p-value = 0 < 0.05 = \\alpha$\n",
        "\n",
        "Вывод: гипотеза $H_0$ отвергается в пользу гипотезы $H_1$, т.е. мы имеем достаточно статистических свидетельств того, что прибыльность в категориях отличается"
      ],
      "metadata": {
        "id": "NN6cID19fuDX"
      }
    },
    {
      "cell_type": "markdown",
      "source": [
        "Определим минимальный детектируемый эффект в тесте,\n",
        "проверяющем, что прибыль в категории «Мужчины 18 лет» выше стоимости\n",
        "привлечения:\n",
        "\n",
        "Гипотезы:\n",
        "\n",
        "$H_0: \\mu = 15000$ — средняя прибыль от привлечения подкатегории равна средним затратам на привлечение\n",
        "\n",
        "$H_1: \\mu > 15000$ — средняя прибыль от привлечения подкатегории больше средних затрат на привлечение\n",
        "\n",
        "Тест:\n",
        "\n",
        "Одновыборочный правосторонний z-test"
      ],
      "metadata": {
        "id": "-T64ASyTfx5h"
      }
    },
    {
      "cell_type": "code",
      "source": [
        "male_18 = df[ (df['Gender'] == 'male') & (df['Age'] == 18) ].copy()"
      ],
      "metadata": {
        "id": "-qYLxsodfvRM"
      },
      "execution_count": 42,
      "outputs": []
    },
    {
      "cell_type": "code",
      "source": [
        "effects = np.arange(0, 500, 1)\n",
        "for effect in effects:\n",
        "    if zpower_1sample_data_monte_carlo(mu0 = 15000,\n",
        "                                       mu = 15000 + effect,\n",
        "                                       sigma = male_18['Profit'].std(),\n",
        "                                       sample_size = len(male_18['Profit']),\n",
        "                                       n_monte_carlo = 1000) >= 0.8:\n",
        "\n",
        "        print('Минимально детектируемый эффект:', effect)\n",
        "        break"
      ],
      "metadata": {
        "colab": {
          "base_uri": "https://localhost:8080/"
        },
        "id": "U1H3capnf6dU",
        "outputId": "a5141658-7c8c-4a4e-8ffb-b71d7aab8bbc"
      },
      "execution_count": 43,
      "outputs": [
        {
          "output_type": "stream",
          "name": "stdout",
          "text": [
            "Минимально детектируемый эффект: 145\n"
          ]
        }
      ]
    },
    {
      "cell_type": "markdown",
      "source": [
        "Вывод:\n",
        "\n",
        "Тест обнаружит положительное различие между стоимостью привлечения категории \"Мужчины 18 лет\" и прибылью с вероятностью $\\geq 80 \\%$, если это различие будет не менее $138$ рублей"
      ],
      "metadata": {
        "id": "bcQ70CgbgXql"
      }
    },
    {
      "cell_type": "markdown",
      "source": [
        "Определим минимальный детектируемый эффект в серии тестов,\n",
        "проверяющих, что прибыль хотя бы в одной из категорий в категории\n",
        "«Мужчины 18 лет», «Мужчины 19 лет», ... «Мужчины 24 лет» выше стоимости\n",
        "привлечения:\n",
        "\n",
        "Гипотезы:\n",
        "\n",
        "$H_0: \\mu = 15000$ — средняя прибыль от привлечения подкатегории равна средним затратам на привлечение\n",
        "\n",
        "$H_1: \\mu > 15000$ — средняя прибыль от привлечения подкатегории больше средних затрат на привлечение\n",
        "\n",
        "Тест:\n",
        "\n",
        "Одновыборочный правосторонний $z-test$\n",
        "\n",
        "Необходимый уровень значимости $\\frac{\\alpha}{7} \\approx 0.71 \\%$, т.к. тесты зависимы"
      ],
      "metadata": {
        "id": "l_cZeZwGgbOb"
      }
    },
    {
      "cell_type": "code",
      "source": [
        "print('Уровень значимости для каждого теста:', round(5/7, 2))"
      ],
      "metadata": {
        "colab": {
          "base_uri": "https://localhost:8080/"
        },
        "id": "RQYei1HqgYJS",
        "outputId": "e97fdc6a-2138-466c-8fb2-48eb4bb09480"
      },
      "execution_count": 44,
      "outputs": [
        {
          "output_type": "stream",
          "name": "stdout",
          "text": [
            "Уровень значимости для каждого теста: 0.71\n"
          ]
        }
      ]
    },
    {
      "cell_type": "code",
      "source": [
        "male_19 = df[ (df['Gender'] == 'male') & (df['Age'] == 19) ].copy()\n",
        "male_20 = df[ (df['Gender'] == 'male') & (df['Age'] == 20) ].copy()\n",
        "male_21 = df[ (df['Gender'] == 'male') & (df['Age'] == 21) ].copy()\n",
        "male_22 = df[ (df['Gender'] == 'male') & (df['Age'] == 22) ].copy()\n",
        "male_23 = df[ (df['Gender'] == 'male') & (df['Age'] == 23) ].copy()\n",
        "male_24 = df[ (df['Gender'] == 'male') & (df['Age'] == 24) ].copy()"
      ],
      "metadata": {
        "id": "f868KwA8gm86"
      },
      "execution_count": 45,
      "outputs": []
    },
    {
      "cell_type": "code",
      "source": [
        "effects = np.arange(100, 1000, 1)\n",
        "for effect in effects:\n",
        "    if zpower_1sample_data_monte_carlo(mu0=15000, mu=15000 + effect, sigma=male_18['Profit'].std(), sample_size=len(male_18['Profit']), n_monte_carlo=1000, significance_level=0.05 / 7) >= 0.8 \\\n",
        "    or zpower_1sample_data_monte_carlo(mu0=15000, mu=15000 + effect, sigma=male_19['Profit'].std(), sample_size=len(male_19['Profit']), n_monte_carlo=1000, significance_level=0.05 / 7) >= 0.8 \\\n",
        "    or zpower_1sample_data_monte_carlo(mu0=15000, mu=15000 + effect, sigma=male_20['Profit'].std(), sample_size=len(male_20['Profit']), n_monte_carlo=1000, significance_level=0.05 / 7) >= 0.8 \\\n",
        "    or zpower_1sample_data_monte_carlo(mu0=15000, mu=15000 + effect, sigma=male_21['Profit'].std(), sample_size=len(male_21['Profit']), n_monte_carlo=1000, significance_level=0.05 / 7) >= 0.8 \\\n",
        "    or zpower_1sample_data_monte_carlo(mu0=15000, mu=15000 + effect, sigma=male_22['Profit'].std(), sample_size=len(male_22['Profit']), n_monte_carlo=1000, significance_level=0.05 / 7) >= 0.8 \\\n",
        "    or zpower_1sample_data_monte_carlo(mu0=15000, mu=15000 + effect, sigma=male_23['Profit'].std(), sample_size=len(male_23['Profit']), n_monte_carlo=1000, significance_level=0.05 / 7) >= 0.8 \\\n",
        "    or zpower_1sample_data_monte_carlo(mu0=15000, mu=15000 + effect, sigma=male_24['Profit'].std(), sample_size=len(male_24['Profit']), n_monte_carlo=1000, significance_level=0.05 / 7) >= 0.8:\n",
        "        print('Минимально детектируемый эффект:', effect)\n",
        "        break"
      ],
      "metadata": {
        "colab": {
          "base_uri": "https://localhost:8080/"
        },
        "id": "iFvPWjvPgprl",
        "outputId": "7af04f1e-6c43-4ebf-a636-f29213a0a610"
      },
      "execution_count": 46,
      "outputs": [
        {
          "output_type": "stream",
          "name": "stdout",
          "text": [
            "Минимально детектируемый эффект: 191\n"
          ]
        }
      ]
    },
    {
      "cell_type": "markdown",
      "source": [
        "Вывод:\n",
        "\n",
        "Тесты обнаружат положительное различие между стоимостью привлечения хотя бы одной из категорий и прибылью с вероятностью $\\geq 80 \\%$, если это различие будет не менее $190$ рублей"
      ],
      "metadata": {
        "id": "ztgy-3XZhAVa"
      }
    }
  ]
}